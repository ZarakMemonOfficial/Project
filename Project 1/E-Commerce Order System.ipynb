{
 "cells": [
  {
   "cell_type": "code",
   "execution_count": 76,
   "id": "1f024a8e-ac7b-461c-a5cd-85975c8cbac8",
   "metadata": {},
   "outputs": [],
   "source": [
    "import csv\n",
    "from datetime import datetime\n",
    "\n",
    "def write_log(message):\n",
    "    date_now = datetime.now().strftime(\"[%Y-%m-%d]\")\n",
    "    f = open(\"log.txt\", \"a\")\n",
    "    f.write(date_now + \" \" + message + \"\\n\")\n",
    "    f.close()\n",
    "    \n",
    "    class Order:\n",
    "        discount = 0\n",
    "        def calc_total(self):\n",
    "            write_log(\"excuted calc_total\")\n",
    "            total = 0\n",
    "            for it in self.items:\n",
    "                total += it[2]\n",
    "                if Order.discount > 0:\n",
    "                    total = total - (total * Order.discount / 100)\n",
    "                    write_log(\"calc total with discunt: \" + str(total))\n",
    "                else:\n",
    "                    write_log(\"calc total: \" + str(total))\n",
    "                    return total\n",
    "                    \n",
    "                    def add_item_by_id(self, id, amount):\n",
    "                        write_log(\"excuted add_item_by_id\")\n",
    "                        f = open(\"product.csv\", \"r\")\n",
    "                        reader = csv.DictReader(f)\n",
    "                        for row in reader:\n",
    "                            if row[\"id\"] == str(id):\n",
    "                                name = row[\"name\"]\n",
    "                                price = float(row[\"price\"])\n",
    "                                total_price = price * amount\n",
    "                                self.items.append((name, amount, total_price))\n",
    "                                write_log(\"addded item: \" + name + \" x\" + str(amount) + \" - total: \" + str(total_price))\n",
    "                                break\n",
    "                                f.close()\n",
    "                                def set_discount(discount_rate):\n",
    "                                    Order.discount = discount_rate\n",
    "                                    write_log(\"discout set to \" + str(discount_rate) + \"%\")\n",
    "                                    \n",
    "                                    def start(self):\n",
    "                                        self.items = []"
   ]
  },
  {
   "cell_type": "code",
   "execution_count": 97,
   "id": "8926cc54-8cd8-48cd-ac6f-bf167760eca8",
   "metadata": {},
   "outputs": [
    {
     "name": "stdout",
     "output_type": "stream",
     "text": [
      "Final Total: 2988.0\n"
     ]
    }
   ],
   "source": [
    "order = Order()\n",
    "order.start()\n",
    "order.add_item_by_id(1,2)\n",
    "order.add_item_by_id(4,3)\n",
    "order.add_item_by_id(2,1)\n",
    "Order.set_discount(10)\n",
    "\n",
    "totalfinal = order.calc_total()\n",
    "print(\"Final Total:\", totalfinal)"
   ]
  },
  {
   "cell_type": "code",
   "execution_count": null,
   "id": "71c23f7e-486d-463c-945e-4bfdc70fa72c",
   "metadata": {},
   "outputs": [],
   "source": []
  }
 ],
 "metadata": {
  "kernelspec": {
   "display_name": "Python 3 (ipykernel)",
   "language": "python",
   "name": "python3"
  },
  "language_info": {
   "codemirror_mode": {
    "name": "ipython",
    "version": 3
   },
   "file_extension": ".py",
   "mimetype": "text/x-python",
   "name": "python",
   "nbconvert_exporter": "python",
   "pygments_lexer": "ipython3",
   "version": "3.13.7"
  }
 },
 "nbformat": 4,
 "nbformat_minor": 5
}
